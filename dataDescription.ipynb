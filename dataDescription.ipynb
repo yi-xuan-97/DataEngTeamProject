{
 "cells": [
  {
   "cell_type": "code",
   "execution_count": 2,
   "metadata": {},
   "outputs": [
    {
     "data": {
      "text/plain": [
       "{'Friday', 'Monday', 'Saturday', 'Sunday', 'Thursday', 'Tuesday', 'Wednesday'}"
      ]
     },
     "execution_count": 2,
     "metadata": {},
     "output_type": "execute_result"
    }
   ],
   "source": [
    "from datetime import datetime\n",
    "import time\n",
    "filelist = ['2022-04-30.json', '2022-05-01.json', '2022-05-16.json', '2022-04-07.json', '2022-05-28.json', '2022-05-08.json', '2022-05-13.json', '2022-05-11.json', '2022-05-18.json', '2022-04-20.json', '2022-04-13.json', '2022-04-12.json', '2022-04-11.json', '2022-05-22.json', '2022-05-21.json', '2022-05-17.json', '2022-04-18.json', '2022-04-28.json', '2022-05-12.json', '2022-05-02.json', '2022-05-26.json', '2022-04-17.json', '2022-04-19.json', '2022-05-27.json', '2022-04-08.json', '2022-05-24.json', '2022-05-19.json', '2022-05-15.json', '2022-04-27.json', '2022-05-07.json', '2022-04-16.json', '2022-04-10.json', '2022-04-26.json', '2022-05-03.json', '2022-05-09.json', '2022-04-14.json', '2022-04-29.json', '2022-05-25.json', '2022-05-10.json', '2022-05-23.json', '2022-04-15.json', '2022-05-14.json', '2022-04-09.json', '2022-04-25.json', '2022-05-20.json']\n",
    "filesdate = []\n",
    "for date in filelist:\n",
    "    filedate = date.split('.')[0]\n",
    "    # print(time.strftime(filedate))\n",
    "    week =datetime.strptime(filedate, '%Y-%m-%d').strftime('%A')\n",
    "    filesdate.append(week)\n",
    "counts = dict()\n",
    "for i in filesdate:\n",
    "    counts[i] = counts.get(i, 0) + 1\n",
    "days = set(counts)\n",
    "days\n"
   ]
  },
  {
   "cell_type": "code",
   "execution_count": 3,
   "metadata": {},
   "outputs": [
    {
     "data": {
      "image/png": "[encoded data removed]",
      "text/plain": [
       "<Figure size 432x288 with 1 Axes>"
      ]
     },
     "metadata": {
      "needs_background": "light"
     },
     "output_type": "display_data"
    }
   ],
   "source": [
    "import matplotlib.pyplot as plt\n",
    "\n",
    "# D = {u'Label1':26, u'Label2': 17, u'Label3':30}\n",
    "D = counts\n",
    "plt.bar(range(len(D)), list(D.values()), align='center')\n",
    "plt.xticks(range(len(D)), list(D.keys()))\n",
    "# # for python 2.x:\n",
    "# plt.bar(range(len(D)), D.values(), align='center')  # python 2.x\n",
    "# plt.xticks(range(len(D)), D.keys())  # in python 2.x\n",
    "\n",
    "plt.show()"
   ]
  },
  {
   "cell_type": "code",
   "execution_count": 18,
   "metadata": {},
   "outputs": [
    {
     "data": {
      "image/png": "[encoded data removed]",
      "text/plain": [
       "<Figure size 432x288 with 1 Axes>"
      ]
     },
     "metadata": {
      "needs_background": "light"
     },
     "output_type": "display_data"
    }
   ],
   "source": [
    "filewithlength = {'2022-05-27': 375773, '2022-04-28': 366506, '2022-05-26': 373534, '2022-05-15': 132805, '2022-04-26': 371613, '2022-04-13': 364779, '2022-05-25': 365570, '2022-04-27': 370452, '2022-04-11': 365452, '2022-05-13': 353020, '2022-05-16': 372439, '2022-05-11': 369463, '2022-05-08': 135365, '2022-04-16': 180828, '2022-05-19': 365514, '2022-04-09': 169274, '2022-04-19': 366614, '2022-04-08': 363246, '2022-05-28': 174536, '2022-05-23': 365496, '2022-04-25': 378021, '2022-05-22': 134976, '2022-04-30': 176418, '2022-04-29': 375777, '2022-04-14': 366390, '2022-04-20': 381854, '2022-05-18': 369200, '2022-05-21': 172896, '2022-04-17': 138082, '2022-05-03': 376844, '2022-05-01': 135160, '2022-04-10': 130745, '2022-05-07': 173849, '2022-05-09': 372697, '2022-05-02': 381364, '2022-05-12': 371426, '2022-05-10': 366968, '2022-05-24': 364554, '2022-04-15': 380364, '2022-05-17': 364012, '2022-05-20': 370539, '2022-05-14': 172774, '2022-04-07': 368612, '2022-04-18': 387181, '2022-04-12': 355477}\n",
    "# ordered_data = sorted(filewithlength.items(), key = lambda x:datetime.strptime(x[0], '%Y-%m-%d'), reverse=True)\n",
    "filewithlength = sorted(filewithlength.items(), reverse=True)\n",
    "filewithlength\n",
    "lengthdict = dict()\n",
    "for file in filewithlength:\n",
    "    lengthdict[file[0]] = file[1]\n",
    "    # print(file[0])\n",
    "lengthdict\n",
    "# lengthdict = \n",
    "D = lengthdict\n",
    "plt.bar(range(len(D)), list(D.values()), align='center')\n",
    "plt.xticks(range(len(D)), list(D.keys()))\n",
    "# # for python 2.x:\n",
    "# plt.bar(range(len(D)), D.values(), align='center')  # python 2.x\n",
    "# plt.xticks(range(len(D)), D.keys())  # in python 2.x\n",
    "# sorted(filewithlength)\n",
    "filewithlength\n",
    "plt.show()"
   ]
  },
  {
   "cell_type": "code",
   "execution_count": 21,
   "metadata": {},
   "outputs": [
    {
     "data": {
      "text/plain": [
       "13868459"
      ]
     },
     "execution_count": 21,
     "metadata": {},
     "output_type": "execute_result"
    }
   ],
   "source": [
    "totallength = 0\n",
    "for file in filewithlength:\n",
    "    totallength += file[1]\n",
    "totallength"
   ]
  }
 ],
 "metadata": {
  "interpreter": {
   "hash": "b0fa6594d8f4cbf19f97940f81e996739fb7646882a419484c72d19e05852a7e"
  },
  "kernelspec": {
   "display_name": "Python 3.9.12 64-bit",
   "language": "python",
   "name": "python3"
  },
  "language_info": {
   "codemirror_mode": {
    "name": "ipython",
    "version": 3
   },
   "file_extension": ".py",
   "mimetype": "text/x-python",
   "name": "python",
   "nbconvert_exporter": "python",
   "pygments_lexer": "ipython3",
   "version": "3.9.12"
  },
  "orig_nbformat": 4
 },
 "nbformat": 4,
 "nbformat_minor": 2
}
