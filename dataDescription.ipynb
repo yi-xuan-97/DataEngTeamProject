{
 "cells": [
  {
   "cell_type": "code",
   "execution_count": 2,
   "metadata": {},
   "outputs": [
    {
     "data": {
      "text/plain": [
       "{'Saturday': 7,\n",
       " 'Sunday': 6,\n",
       " 'Monday': 7,\n",
       " 'Thursday': 6,\n",
       " 'Friday': 6,\n",
       " 'Wednesday': 6,\n",
       " 'Tuesday': 7}"
      ]
     },
     "execution_count": 2,
     "metadata": {},
     "output_type": "execute_result"
    }
   ],
   "source": [
    "from datetime import datetime\n",
    "import time\n",
    "filelist = ['2022-04-30.json', '2022-05-01.json', '2022-05-16.json', '2022-04-07.json', '2022-05-28.json', '2022-05-08.json', '2022-05-13.json', '2022-05-11.json', '2022-05-18.json', '2022-04-20.json', '2022-04-13.json', '2022-04-12.json', '2022-04-11.json', '2022-05-22.json', '2022-05-21.json', '2022-05-17.json', '2022-04-18.json', '2022-04-28.json', '2022-05-12.json', '2022-05-02.json', '2022-05-26.json', '2022-04-17.json', '2022-04-19.json', '2022-05-27.json', '2022-04-08.json', '2022-05-24.json', '2022-05-19.json', '2022-05-15.json', '2022-04-27.json', '2022-05-07.json', '2022-04-16.json', '2022-04-10.json', '2022-04-26.json', '2022-05-03.json', '2022-05-09.json', '2022-04-14.json', '2022-04-29.json', '2022-05-25.json', '2022-05-10.json', '2022-05-23.json', '2022-04-15.json', '2022-05-14.json', '2022-04-09.json', '2022-04-25.json', '2022-05-20.json']\n",
    "filesdate = []\n",
    "for date in filelist:\n",
    "    filedate = date.split('.')[0]\n",
    "    # print(time.strftime(filedate))\n",
    "    week =datetime.strptime(filedate, '%Y-%m-%d').strftime('%A')\n",
    "    filesdate.append(week)\n",
    "counts = dict()\n",
    "for i in filesdate:\n",
    "    counts[i] = counts.get(i, 0) + 1\n",
    "days = set(counts)\n",
    "counts"
   ]
  }
 ],
 "metadata": {
  "interpreter": {
   "hash": "b0fa6594d8f4cbf19f97940f81e996739fb7646882a419484c72d19e05852a7e"
  },
  "kernelspec": {
   "display_name": "Python 3.9.12 64-bit",
   "language": "python",
   "name": "python3"
  },
  "language_info": {
   "codemirror_mode": {
    "name": "ipython",
    "version": 3
   },
   "file_extension": ".py",
   "mimetype": "text/x-python",
   "name": "python",
   "nbconvert_exporter": "python",
   "pygments_lexer": "ipython3",
   "version": "3.9.12"
  },
  "orig_nbformat": 4
 },
 "nbformat": 4,
 "nbformat_minor": 2
}
