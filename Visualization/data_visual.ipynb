{
 "cells": [
  {
   "cell_type": "code",
   "execution_count": 6,
   "metadata": {},
   "outputs": [],
   "source": [
    "import pandas as pd\n",
    "import os\n",
    "import folium\n",
    "import folium.plugins\n",
    "\n",
    "path = \"/Users/zhengmao/Documents/Github/DataEngTeamProject/validData/\"\n",
    "filelist = os.listdir(path)\n",
    "def data_visual(filepath, filename):\n",
    "    path = filepath + filename\n",
    "    df = pd.read_csv(path)\n",
    "    df = df.loc[:, ~df.columns.str.contains('^Unnamed')]\n",
    "    # PSU Location 45.511923 -122.681913\n",
    "    # map_hooray\n",
    "    # GPS_LONGITUDE\tGPS_LATITUDE\n",
    "    df = df[['GPS_LATITUDE', 'GPS_LONGITUDE']]\n",
    "    portland_map = folium.Map(location=[df['GPS_LATITUDE'].mean(), df['GPS_LONGITUDE'].mean()], zoom_start = 11)\n",
    "    folium.plugins.HeatMap(df).add_to(portland_map)\n",
    "    htmlfile = filename.split('.')\n",
    "    portland_map.save(f'./Pages/{htmlfile[0]}.html')\n",
    "for file in filelist:\n",
    "    data_visual(path, file)\n",
    "\n"
   ]
  }
 ],
 "metadata": {
  "interpreter": {
   "hash": "b0fa6594d8f4cbf19f97940f81e996739fb7646882a419484c72d19e05852a7e"
  },
  "kernelspec": {
   "display_name": "Python 3.9.12 64-bit",
   "language": "python",
   "name": "python3"
  },
  "language_info": {
   "codemirror_mode": {
    "name": "ipython",
    "version": 3
   },
   "file_extension": ".py",
   "mimetype": "text/x-python",
   "name": "python",
   "nbconvert_exporter": "python",
   "pygments_lexer": "ipython3",
   "version": "3.9.12"
  },
  "orig_nbformat": 4
 },
 "nbformat": 4,
 "nbformat_minor": 2
}
