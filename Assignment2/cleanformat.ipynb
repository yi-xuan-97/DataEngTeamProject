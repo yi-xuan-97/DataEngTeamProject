{
 "cells": [
  {
   "cell_type": "code",
   "execution_count": 1,
   "metadata": {},
   "outputs": [],
   "source": [
    "import pandas as pd\n",
    "import os\n",
    "\n",
    "path = '/Users/zhengmao/Documents/Github/DataEngTeamProject/Assignment2/validData/'\n",
    "filelist = os.listdir(path)\n",
    "\n",
    "def dropTS(filepath):\n",
    "    df = pd.read_csv(filepath)\n",
    "    df.drop(columns=['TIMESTAMP'], inplace=True)\n",
    "    df.to_csv(filepath)\n",
    "for file in filelist:\n",
    "    filepath = path + file\n",
    "    dropTS(filepath)\n"
   ]
  }
 ],
 "metadata": {
  "interpreter": {
   "hash": "b0fa6594d8f4cbf19f97940f81e996739fb7646882a419484c72d19e05852a7e"
  },
  "kernelspec": {
   "display_name": "Python 3.9.12 64-bit",
   "language": "python",
   "name": "python3"
  },
  "language_info": {
   "codemirror_mode": {
    "name": "ipython",
    "version": 3
   },
   "file_extension": ".py",
   "mimetype": "text/x-python",
   "name": "python",
   "nbconvert_exporter": "python",
   "pygments_lexer": "ipython3",
   "version": "3.9.12"
  },
  "orig_nbformat": 4
 },
 "nbformat": 4,
 "nbformat_minor": 2
}
