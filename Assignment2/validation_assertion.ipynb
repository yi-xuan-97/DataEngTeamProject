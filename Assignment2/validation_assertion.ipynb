{
 "cells": [
  {
   "cell_type": "code",
   "execution_count": 13,
   "metadata": {},
   "outputs": [
    {
     "name": "stdout",
     "output_type": "stream",
     "text": [
      "All record has a vehicle in record\n",
      "All record occurs on a date\n",
      "Some reocord is missing deviation information\n",
      "There are radio quality information missing from record\n"
     ]
    }
   ],
   "source": [
    "import pandas as pd\n",
    "import numpy as np\n",
    "\n",
    "original_data = pd.read_json(\"2022-04-07.json\")\n",
    "data = original_data.replace(r'^\\s*$', np.nan, regex=True)\n",
    "\n",
    "# Every breadcrumb record occur with velchle ID\n",
    "if data['VEHICLE_ID'].isnull().values.any():\n",
    "    print(\"Some record's vehicle id is missing\")\n",
    "else:\n",
    "    print(\"All record has a vehicle in record\")\n",
    "\n",
    "# Every breadcrumb record occur on a date\n",
    "if data['OPD_DATE'].isnull().values.any():\n",
    "    print(\"There are record missing date\")\n",
    "else:\n",
    "    print(\"All record occurs on a date\")\n",
    "\n",
    "# Every breadcrumb should have a number for deviation (even it’s 0)\n",
    "if data['SCHEDULE_DEVIATION'].isnull().values.any():\n",
    "    print(\"Some reocord is missing deviation information\")\n",
    "else:\n",
    "    print(\"All record contains a deviation information\")\n",
    "\n",
    "# Every breadcrumb record should have a radio quality\n",
    "if data['RADIO_QUALITY'].isnull().values.any():\n",
    "    print(\"There are radio quality information missing from record\")\n",
    "else:\n",
    "    print(\"All record contains a radio quality\")\n"
   ]
  },
  {
   "cell_type": "code",
   "execution_count": 18,
   "metadata": {},
   "outputs": [
    {
     "name": "stdout",
     "output_type": "stream",
     "text": [
      "{'20'}\n",
      "{'SEP'}\n"
     ]
    }
   ],
   "source": [
    "from datetime import datetime\n",
    "\n",
    "year_list = set()\n",
    "month_list = set()\n",
    "\n",
    "o_date = data[\"OPD_DATE\"].unique()\n",
    "\n",
    "for o in o_date:\n",
    "    temp = o.split(\"-\")\n",
    "    year_list.add(temp[2])\n",
    "    month_list.add(temp[1])\n",
    "\n",
    "print(year_list)\n",
    "print(month_list)"
   ]
  },
  {
   "cell_type": "code",
   "execution_count": 39,
   "metadata": {},
   "outputs": [
    {
     "name": "stdout",
     "output_type": "stream",
     "text": [
      "There is deviation with 0\n",
      "There is deviation outside of 0-500\n",
      "All direction is between 0-360\n"
     ]
    }
   ],
   "source": [
    "import math\n",
    "\n",
    "dev_info = data[\"SCHEDULE_DEVIATION\"].replace(np.nan, -99999, regex=True).unique()\n",
    "dir_infor = data[\"DIRECTION\"].replace(np.nan, -99999, regex=True).unique()\n",
    "\n",
    "check = True\n",
    "check1 = True\n",
    "\n",
    "for d in dev_info:\n",
    "    d = int(d)\n",
    "    if d == 0:            \n",
    "        print(\"There is deviation with 0\")\n",
    "    elif d < 0 or d > 500:\n",
    "        check = False\n",
    "        \n",
    "if check is False:\n",
    "    print(\"There is deviation outside of 0-500\")\n",
    "\n",
    "for d in dir_infor:\n",
    "    d = int(d)\n",
    "    if d != -99999:\n",
    "        if d < 0 or d > 360:\n",
    "            check1 = False\n",
    "\n",
    "if check1 is False:\n",
    "    print(\"There is direction information outside of 0-360\")\n",
    "else:\n",
    "    print(\"All direction is between 0-360\")\n"
   ]
  },
  {
   "cell_type": "code",
   "execution_count": 45,
   "metadata": {},
   "outputs": [
    {
     "name": "stdout",
     "output_type": "stream",
     "text": [
      "There are more than 1000 records within one trip id\n"
     ]
    }
   ],
   "source": [
    "trip = data.groupby(by=\"EVENT_NO_TRIP\")[\"VEHICLE_ID\"].count()\n",
    "\n",
    "check = False\n",
    "for t in trip:\n",
    "    if t>1000:\n",
    "        check = True\n",
    "\n",
    "if check is False:\n",
    "    print(\"There are more than 1000 records within one trip id\")"
   ]
  }
 ],
 "metadata": {
  "interpreter": {
   "hash": "aee8b7b246df8f9039afb4144a1f6fd8d2ca17a180786b69acc140d282b71a49"
  },
  "kernelspec": {
   "display_name": "Python 3.10.2 64-bit",
   "language": "python",
   "name": "python3"
  },
  "language_info": {
   "codemirror_mode": {
    "name": "ipython",
    "version": 3
   },
   "file_extension": ".py",
   "mimetype": "text/x-python",
   "name": "python",
   "nbconvert_exporter": "python",
   "pygments_lexer": "ipython3",
   "version": "3.10.2"
  },
  "orig_nbformat": 4
 },
 "nbformat": 4,
 "nbformat_minor": 2
}
