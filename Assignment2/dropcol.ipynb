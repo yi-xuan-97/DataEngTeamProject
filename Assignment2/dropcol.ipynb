{
 "cells": [
  {
   "cell_type": "code",
   "execution_count": 1,
   "metadata": {},
   "outputs": [
    {
     "name": "stdout",
     "output_type": "stream",
     "text": [
      "Trying to vali file: 2022-04-11.json\n",
      "Trying to vali file: 2022-04-07.json\n",
      "Trying to vali file: 2022-04-27.json\n",
      "Trying to vali file: 2022-04-30.json\n",
      "Trying to vali file: 2022-04-26.json\n",
      "Trying to vali file: 2022-05-07.json\n",
      "Trying to vali file: 2022-04-10.json\n",
      "Trying to vali file: 2022-04-17.json\n",
      "Trying to vali file: 2022-05-01.json\n",
      "Trying to vali file: 2022-04-16.json\n",
      "Trying to vali file: 2022-04-20.json\n",
      "Trying to vali file: 2022-04-19.json\n",
      "Trying to vali file: 2022-05-02.json\n",
      "Trying to vali file: 2022-04-15.json\n",
      "Trying to vali file: 2022-04-14.json\n",
      "Trying to vali file: 2022-05-03.json\n",
      "Trying to vali file: 2022-04-18.json\n",
      "Trying to vali file: 2022-04-29.json\n",
      "Trying to vali file: 2022-04-13.json\n",
      "Trying to vali file: 2022-04-25.json\n",
      "Trying to vali file: 2022-04-09.json\n",
      "Trying to vali file: 2022-04-08.json\n",
      "Trying to vali file: 2022-04-12.json\n",
      "Trying to vali file: 2022-04-28.json\n"
     ]
    }
   ],
   "source": [
    "import pandas as pd\n",
    "import numpy as np\n",
    "import os\n",
    "path = '/Users/zhengmao/Documents/Github/DataEngTeamProject/data/storage/'\n",
    "filelist = os.listdir(path)\n",
    "\n",
    "for file in filelist:\n",
    "    print(f'Trying to vali file: {file}')\n",
    "    df = pd.read_json(path+file)\n",
    "    df.drop(columns=['RADIO_QUALITY'],inplace=True)\n",
    "    filename = file.split('.')\n",
    "    df.to_csv(f'./validData/{filename[0]}.csv')"
   ]
  }
 ],
 "metadata": {
  "interpreter": {
   "hash": "b0fa6594d8f4cbf19f97940f81e996739fb7646882a419484c72d19e05852a7e"
  },
  "kernelspec": {
   "display_name": "Python 3.9.12 64-bit",
   "language": "python",
   "name": "python3"
  },
  "language_info": {
   "codemirror_mode": {
    "name": "ipython",
    "version": 3
   },
   "file_extension": ".py",
   "mimetype": "text/x-python",
   "name": "python",
   "nbconvert_exporter": "python",
   "pygments_lexer": "ipython3",
   "version": "3.9.12"
  },
  "orig_nbformat": 4
 },
 "nbformat": 4,
 "nbformat_minor": 2
}
