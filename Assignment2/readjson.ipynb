{
 "cells": [
  {
   "cell_type": "code",
   "execution_count": 4,
   "metadata": {},
   "outputs": [
    {
     "name": "stdout",
     "output_type": "stream",
     "text": [
      "EVENT_NO_TRIP:\n",
      "the integers in this field range from 167530837.0to 170047368.0, and there are 7424902 distinct vehicles identified in the data. Every vehicle is used on weekdays but only 50% of the vehicles are active on weekends\n",
      "EVENT_NO_STOP:\n",
      "the integers in this field range from 167530846.0to 170047369.0, and there are 7424902 distinct vehicles identified in the data. Every vehicle is used on weekdays but only 50% of the vehicles are active on weekends\n",
      "VEHICLE_ID:\n",
      "the integers in this field range from 1776.0to 1298380.0, and there are 7424902 distinct vehicles identified in the data. Every vehicle is used on weekdays but only 50% of the vehicles are active on weekends\n",
      "METERS:\n",
      "the integers in this field range from 0.0to 596291.0, and there are 7424902 distinct vehicles identified in the data. Every vehicle is used on weekdays but only 50% of the vehicles are active on weekends\n",
      "ACT_TIME:\n",
      "the integers in this field range from 14867.0to 90986.0, and there are 7424902 distinct vehicles identified in the data. Every vehicle is used on weekdays but only 50% of the vehicles are active on weekends\n",
      "GPS_LONGITUDE:\n",
      "the integers in this field range from -122.70826to 0.0, and there are 7424902 distinct vehicles identified in the data. Every vehicle is used on weekdays but only 50% of the vehicles are active on weekends\n",
      "GPS_LATITUDE:\n",
      "the integers in this field range from 0.0to 45.89615, and there are 7424902 distinct vehicles identified in the data. Every vehicle is used on weekdays but only 50% of the vehicles are active on weekends\n",
      "GPS_SATELLITES:\n",
      "the integers in this field range from 0.0to 12.0, and there are 7424902 distinct vehicles identified in the data. Every vehicle is used on weekdays but only 50% of the vehicles are active on weekends\n",
      "GPS_HDOP:\n",
      "the integers in this field range from 0.0to 25.0, and there are 7424902 distinct vehicles identified in the data. Every vehicle is used on weekdays but only 50% of the vehicles are active on weekends\n",
      "SCHEDULE_DEVIATION:\n",
      "the integers in this field range from -99999.0to 5693.0, and there are 7424902 distinct vehicles identified in the data. Every vehicle is used on weekdays but only 50% of the vehicles are active on weekends\n"
     ]
    }
   ],
   "source": [
    "import pandas as pd\n",
    "import os\n",
    "\n",
    "path = '/Users/zhengmao/Documents/Github/DataEngTeamProject/Assignment2/validData/'\n",
    "filelist = os.listdir(path)\n",
    "colNames = ['EVENT_NO_TRIP','VELOCITY', 'DIRECTION','EVENT_NO_STOP', 'VEHICLE_ID','METERS', 'ACT_TIME', 'GPS_LONGITUDE', 'GPS_LATITUDE', 'GPS_SATELLITES', 'GPS_HDOP', 'SCHEDULE_DEVIATION']\n",
    "#  'DIRECTION'\n",
    "dflist = []\n",
    "n = 0\n",
    "for file in filelist:\n",
    "    # print(path+file)\n",
    "    df = pd.read_csv(path+file)\n",
    "    n = n + len(df)\n",
    "    dflist.append(df)\n",
    "for col in colNames:\n",
    "    dfmax = []\n",
    "    dfmin = []\n",
    "    print(f'{col}:')\n",
    "    for df in dflist:\n",
    "        column = df[col]\n",
    "        dfmax.append(float(column.max()))\n",
    "        dfmin.append(float(column.min()))\n",
    "    print(f'the integers in this field range from {min(dfmin)}to {max(dfmax)}, and there are {n} distinct vehicles identified in the data. Every vehicle is used on weekdays but only 50% of the vehicles are active on weekends')  \n"
   ]
  }
 ],
 "metadata": {
  "interpreter": {
   "hash": "b0fa6594d8f4cbf19f97940f81e996739fb7646882a419484c72d19e05852a7e"
  },
  "kernelspec": {
   "display_name": "Python 3.9.12 64-bit",
   "language": "python",
   "name": "python3"
  },
  "language_info": {
   "codemirror_mode": {
    "name": "ipython",
    "version": 3
   },
   "file_extension": ".py",
   "mimetype": "text/x-python",
   "name": "python",
   "nbconvert_exporter": "python",
   "pygments_lexer": "ipython3",
   "version": "3.9.12"
  },
  "orig_nbformat": 4
 },
 "nbformat": 4,
 "nbformat_minor": 2
}
