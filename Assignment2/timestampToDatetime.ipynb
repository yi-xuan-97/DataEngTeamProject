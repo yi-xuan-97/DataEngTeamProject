{
 "cells": [
  {
   "cell_type": "code",
   "execution_count": 5,
   "metadata": {},
   "outputs": [
    {
     "name": "stdout",
     "output_type": "stream",
     "text": [
      "/Users/zhengmao/Documents/Github/DataEngTeamProject/Assignment2/validData/2022-04-18.csv\n",
      "/Users/zhengmao/Documents/Github/DataEngTeamProject/Assignment2/validData/2022-04-30.csv\n",
      "/Users/zhengmao/Documents/Github/DataEngTeamProject/Assignment2/validData/2022-04-25.csv\n",
      "/Users/zhengmao/Documents/Github/DataEngTeamProject/Assignment2/validData/2022-04-19.csv\n",
      "/Users/zhengmao/Documents/Github/DataEngTeamProject/Assignment2/validData/2022-04-27.csv\n",
      "/Users/zhengmao/Documents/Github/DataEngTeamProject/Assignment2/validData/2022-04-26.csv\n",
      "/Users/zhengmao/Documents/Github/DataEngTeamProject/Assignment2/validData/2022-04-09.csv\n",
      "/Users/zhengmao/Documents/Github/DataEngTeamProject/Assignment2/validData/2022-04-08.csv\n",
      "/Users/zhengmao/Documents/Github/DataEngTeamProject/Assignment2/validData/2022-04-20.csv\n",
      "/Users/zhengmao/Documents/Github/DataEngTeamProject/Assignment2/validData/2022-05-07.csv\n",
      "/Users/zhengmao/Documents/Github/DataEngTeamProject/Assignment2/validData/2022-05-01.csv\n",
      "/Users/zhengmao/Documents/Github/DataEngTeamProject/Assignment2/validData/2022-05-02.csv\n",
      "/Users/zhengmao/Documents/Github/DataEngTeamProject/Assignment2/validData/2022-05-03.csv\n",
      "/Users/zhengmao/Documents/Github/DataEngTeamProject/Assignment2/validData/2022-04-11.csv\n",
      "/Users/zhengmao/Documents/Github/DataEngTeamProject/Assignment2/validData/2022-04-10.csv\n",
      "/Users/zhengmao/Documents/Github/DataEngTeamProject/Assignment2/validData/2022-04-12.csv\n",
      "/Users/zhengmao/Documents/Github/DataEngTeamProject/Assignment2/validData/2022-04-07.csv\n",
      "/Users/zhengmao/Documents/Github/DataEngTeamProject/Assignment2/validData/2022-04-13.csv\n",
      "/Users/zhengmao/Documents/Github/DataEngTeamProject/Assignment2/validData/2022-04-17.csv\n",
      "/Users/zhengmao/Documents/Github/DataEngTeamProject/Assignment2/validData/2022-04-16.csv\n",
      "/Users/zhengmao/Documents/Github/DataEngTeamProject/Assignment2/validData/2022-04-14.csv\n",
      "/Users/zhengmao/Documents/Github/DataEngTeamProject/Assignment2/validData/2022-04-28.csv\n",
      "/Users/zhengmao/Documents/Github/DataEngTeamProject/Assignment2/validData/2022-04-29.csv\n",
      "/Users/zhengmao/Documents/Github/DataEngTeamProject/Assignment2/validData/2022-04-15.csv\n"
     ]
    }
   ],
   "source": [
    "import pandas as pd\n",
    "import os\n",
    "\n",
    "path = '/Users/zhengmao/Documents/Github/DataEngTeamProject/Assignment2/validData/'\n",
    "filelist = os.listdir(path)\n",
    "for file in filelist:\n",
    "    df = pd.read_csv(path+file)\n",
    "    df['DateTime'] = pd.to_datetime(df['ACT_TIME'], unit='s')\n",
    "    df.to_csv(path+file)"
   ]
  }
 ],
 "metadata": {
  "interpreter": {
   "hash": "b0fa6594d8f4cbf19f97940f81e996739fb7646882a419484c72d19e05852a7e"
  },
  "kernelspec": {
   "display_name": "Python 3.9.12 64-bit",
   "language": "python",
   "name": "python3"
  },
  "language_info": {
   "codemirror_mode": {
    "name": "ipython",
    "version": 3
   },
   "file_extension": ".py",
   "mimetype": "text/x-python",
   "name": "python",
   "nbconvert_exporter": "python",
   "pygments_lexer": "ipython3",
   "version": "3.9.12"
  },
  "orig_nbformat": 4
 },
 "nbformat": 4,
 "nbformat_minor": 2
}
