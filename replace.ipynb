{
 "cells": [
  {
   "cell_type": "code",
   "execution_count": 6,
   "metadata": {},
   "outputs": [
    {
     "name": "stdout",
     "output_type": "stream",
     "text": [
      "Replacing 2022-04-18.csv\n",
      "Replacing 2022-04-30.csv\n",
      "Replacing 2022-04-25.csv\n",
      "Replacing 2022-04-19.csv\n",
      "Replacing 2022-04-27.csv\n",
      "Replacing 2022-04-26.csv\n",
      "Replacing 2022-04-09.csv\n",
      "Replacing 2022-04-08.csv\n",
      "Replacing 2022-04-20.csv\n",
      "Replacing 2022-05-07.csv\n",
      "Replacing 2022-05-01.csv\n",
      "Replacing 2022-05-02.csv\n",
      "Replacing 2022-05-03.csv\n",
      "Replacing 2022-04-11.csv\n",
      "Replacing 2022-04-10.csv\n",
      "Replacing 2022-04-12.csv\n",
      "Replacing 2022-04-07.csv\n",
      "Replacing 2022-04-13.csv\n",
      "Replacing 2022-04-17.csv\n",
      "Replacing 2022-04-16.csv\n",
      "Replacing 2022-04-14.csv\n",
      "Replacing 2022-04-28.csv\n",
      "Replacing 2022-04-29.csv\n",
      "Replacing 2022-04-15.csv\n"
     ]
    }
   ],
   "source": [
    "import pandas as pd\n",
    "import os\n",
    "path = '/Users/zhengmao/Documents/Github/DataEngTeamProject/validData/'\n",
    "filelist = os.listdir(path)\n",
    "for file in filelist:\n",
    "    print(f\"Replacing {file}\")\n",
    "    df = pd.read_csv(path+file)\n",
    "    # GPS_LONGITUDE          True\n",
    "    # GPS_LATITUDE           True\n",
    "    # GPS_SATELLITES         True\n",
    "    # GPS_HDOP               True\n",
    "    values = {'VELOCITY' : -1, 'DIRECTION': -1,'SCHEDULE_DEVIATION': -99999,\n",
    "             'GPS_LONGITUDE': 0, 'GPS_LATITUDE': 0, 'GPS_SATELLITES': 0, 'GPS_HDOP':0\n",
    "            }\n",
    "    df.fillna(value= values, inplace=True)\n",
    "    df.to_csv(path+file)"
   ]
  }
 ],
 "metadata": {
  "interpreter": {
   "hash": "b0fa6594d8f4cbf19f97940f81e996739fb7646882a419484c72d19e05852a7e"
  },
  "kernelspec": {
   "display_name": "Python 3.9.12 64-bit",
   "language": "python",
   "name": "python3"
  },
  "language_info": {
   "codemirror_mode": {
    "name": "ipython",
    "version": 3
   },
   "file_extension": ".py",
   "mimetype": "text/x-python",
   "name": "python",
   "nbconvert_exporter": "python",
   "pygments_lexer": "ipython3",
   "version": "3.9.12"
  },
  "orig_nbformat": 4
 },
 "nbformat": 4,
 "nbformat_minor": 2
}
