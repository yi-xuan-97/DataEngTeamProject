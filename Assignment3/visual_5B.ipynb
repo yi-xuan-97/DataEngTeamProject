{
 "cells": [
  {
   "cell_type": "code",
   "execution_count": 4,
   "metadata": {},
   "outputs": [],
   "source": [
    "import pandas as pd\n",
    "import os\n",
    "import folium\n",
    "import folium.plugins\n",
    "from datetime import date\n",
    "\n",
    "df = pd.read_csv('2022-05-22.csv')\n",
    "basicMap = folium.Map(location=[df['y_coordinate'].mean(), df['x_coordinate'].mean()], zoom_start = 11, tiles='cartodbpositronnolabels')\n",
    "folium.plugins.HeatMap(df[['y_coordinate', 'x_coordinate']]).add_to(basicMap)\n",
    "basicMap.save('Pages/FroProblem5B.html')\n",
    "basicMap"
   ]
  }
 ],
 "metadata": {
  "interpreter": {
   "hash": "b0fa6594d8f4cbf19f97940f81e996739fb7646882a419484c72d19e05852a7e"
  },
  "kernelspec": {
   "display_name": "Python 3.9.12 64-bit",
   "language": "python",
   "name": "python3"
  },
  "language_info": {
   "codemirror_mode": {
    "name": "ipython",
    "version": 3
   },
   "file_extension": ".py",
   "mimetype": "text/x-python",
   "name": "python",
   "nbconvert_exporter": "python",
   "pygments_lexer": "ipython3",
   "version": "3.9.12"
  },
  "orig_nbformat": 4
 },
 "nbformat": 4,
 "nbformat_minor": 2
}
