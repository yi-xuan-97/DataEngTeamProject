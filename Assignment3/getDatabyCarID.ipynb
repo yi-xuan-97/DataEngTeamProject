{
 "cells": [
  {
   "cell_type": "code",
   "execution_count": 11,
   "metadata": {},
   "outputs": [],
   "source": [
    "import pandas as pd\n",
    "import requests\n",
    "from bs4 import BeautifulSoup\n",
    "from lxml import etree\n",
    "from datetime import date\n",
    "\n",
    "today = str(date.today())\n",
    "pageurl = 'http://www.psudataeng.com:8000/getStopEvents/'\n",
    "s = requests.Session()\n",
    "resp = s.get(url = pageurl)\n",
    "soup = BeautifulSoup(resp.text,'html.parser')\n",
    "tables = soup.find_all('table')\n",
    "carsID = soup.find_all('h3')\n",
    "carIDs = []\n",
    "for car in carsID:\n",
    "    carIDs.append(car.string.split(' ')[4])\n",
    "\n",
    "def tableformtodict(table):\n",
    "    records = []\n",
    "    s = str(table)\n",
    "    table = etree.HTML(s).find(\"body/table\")\n",
    "    rows = iter(table)\n",
    "    headers = [col.text for col in next(rows)]\n",
    "    for row in rows:\n",
    "        values = [col.text for col in row]\n",
    "        records.append(dict(zip(headers, values)))\n",
    "    return records\n",
    "i = 0\n",
    "for table in tables:\n",
    "    filename = f'{today}-{carIDs[i]}.csv'\n",
    "    i += 1\n",
    "    record = tableformtodict(table)\n",
    "    df = pd.DataFrame(record)\n",
    "    df.to_csv(f'cars_record/{filename}', index=False)\n"
   ]
  }
 ],
 "metadata": {
  "interpreter": {
   "hash": "b0fa6594d8f4cbf19f97940f81e996739fb7646882a419484c72d19e05852a7e"
  },
  "kernelspec": {
   "display_name": "Python 3.9.12 64-bit",
   "language": "python",
   "name": "python3"
  },
  "language_info": {
   "codemirror_mode": {
    "name": "ipython",
    "version": 3
   },
   "file_extension": ".py",
   "mimetype": "text/x-python",
   "name": "python",
   "nbconvert_exporter": "python",
   "pygments_lexer": "ipython3",
   "version": "3.9.12"
  },
  "orig_nbformat": 4
 },
 "nbformat": 4,
 "nbformat_minor": 2
}
