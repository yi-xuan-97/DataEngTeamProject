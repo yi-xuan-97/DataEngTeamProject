{
 "cells": [
  {
   "cell_type": "code",
   "execution_count": 17,
   "metadata": {},
   "outputs": [
    {
     "data": {
      "text/html": [
       "<div style=\"width:100%;\"><div style=\"position:relative;width:100%;height:0;padding-bottom:60%;\"><span style=\"color:#565656\">Make this Notebook Trusted to load map: File -> Trust Notebook</span><iframe srcdoc=\"&lt;!DOCTYPE html&gt;\n",
       "&lt;head&gt;    \n",
       "    &lt;meta http-equiv=&quot;content-type&quot; content=&quot;text/html; charset=UTF-8&quot; /&gt;\n",
       "    \n",
       "        &lt;script&gt;\n",
       "            L_NO_TOUCH = false;\n",
       "            L_DISABLE_3D = false;\n",
       "        &lt;/script&gt;\n",
       "    \n",
       "    &lt;style&gt;html, body {width: 100%;height: 100%;margin: 0;padding: 0;}&lt;/style&gt;\n",
       "    &lt;style&gt;#map {position:absolute;top:0;bottom:0;right:0;left:0;}&lt;/style&gt;\n",
       "    &lt;script src=&quot;https://cdn.jsdelivr.net/npm/leaflet@1.6.0/dist/leaflet.js&quot;&gt;&lt;/script&gt;\n",
       "    &lt;script src=&quot;https://code.jquery.com/jquery-1.12.4.min.js&quot;&gt;&lt;/script&gt;\n",
       "    &lt;script src=&quot;https://maxcdn.bootstrapcdn.com/bootstrap/3.2.0/js/bootstrap.min.js&quot;&gt;&lt;/script&gt;\n",
       "    &lt;script src=&quot;https://cdnjs.cloudflare.com/ajax/libs/Leaflet.awesome-markers/2.0.2/leaflet.awesome-markers.js&quot;&gt;&lt;/script&gt;\n",
       "    &lt;link rel=&quot;stylesheet&quot; href=&quot;https://cdn.jsdelivr.net/npm/leaflet@1.6.0/dist/leaflet.css&quot;/&gt;\n",
       "    &lt;link rel=&quot;stylesheet&quot; href=&quot;https://maxcdn.bootstrapcdn.com/bootstrap/3.2.0/css/bootstrap.min.css&quot;/&gt;\n",
       "    &lt;link rel=&quot;stylesheet&quot; href=&quot;https://maxcdn.bootstrapcdn.com/bootstrap/3.2.0/css/bootstrap-theme.min.css&quot;/&gt;\n",
       "    &lt;link rel=&quot;stylesheet&quot; href=&quot;https://maxcdn.bootstrapcdn.com/font-awesome/4.6.3/css/font-awesome.min.css&quot;/&gt;\n",
       "    &lt;link rel=&quot;stylesheet&quot; href=&quot;https://cdnjs.cloudflare.com/ajax/libs/Leaflet.awesome-markers/2.0.2/leaflet.awesome-markers.css&quot;/&gt;\n",
       "    &lt;link rel=&quot;stylesheet&quot; href=&quot;https://cdn.jsdelivr.net/gh/python-visualization/folium/folium/templates/leaflet.awesome.rotate.min.css&quot;/&gt;\n",
       "    \n",
       "            &lt;meta name=&quot;viewport&quot; content=&quot;width=device-width,\n",
       "                initial-scale=1.0, maximum-scale=1.0, user-scalable=no&quot; /&gt;\n",
       "            &lt;style&gt;\n",
       "                #map_2f54dd7c452ef74b0c18babf03c1afef {\n",
       "                    position: relative;\n",
       "                    width: 100.0%;\n",
       "                    height: 100.0%;\n",
       "                    left: 0.0%;\n",
       "                    top: 0.0%;\n",
       "                }\n",
       "            &lt;/style&gt;\n",
       "        \n",
       "&lt;/head&gt;\n",
       "&lt;body&gt;    \n",
       "    \n",
       "            &lt;div class=&quot;folium-map&quot; id=&quot;map_2f54dd7c452ef74b0c18babf03c1afef&quot; &gt;&lt;/div&gt;\n",
       "        \n",
       "&lt;/body&gt;\n",
       "&lt;script&gt;    \n",
       "    \n",
       "            var map_2f54dd7c452ef74b0c18babf03c1afef = L.map(\n",
       "                &quot;map_2f54dd7c452ef74b0c18babf03c1afef&quot;,\n",
       "                {\n",
       "                    center: [45.681595059523815, -122.54929303571429],\n",
       "                    crs: L.CRS.EPSG3857,\n",
       "                    zoom: 11,\n",
       "                    zoomControl: true,\n",
       "                    preferCanvas: false,\n",
       "                }\n",
       "            );\n",
       "\n",
       "            \n",
       "\n",
       "        \n",
       "    \n",
       "            var tile_layer_82c7869f3037e175b40b08a63045df48 = L.tileLayer(\n",
       "                &quot;https://{s}.tile.openstreetmap.org/{z}/{x}/{y}.png&quot;,\n",
       "                {&quot;attribution&quot;: &quot;Data by \\u0026copy; \\u003ca href=\\&quot;http://openstreetmap.org\\&quot;\\u003eOpenStreetMap\\u003c/a\\u003e, under \\u003ca href=\\&quot;http://www.openstreetmap.org/copyright\\&quot;\\u003eODbL\\u003c/a\\u003e.&quot;, &quot;detectRetina&quot;: false, &quot;maxNativeZoom&quot;: 18, &quot;maxZoom&quot;: 18, &quot;minZoom&quot;: 0, &quot;noWrap&quot;: false, &quot;opacity&quot;: 1, &quot;subdomains&quot;: &quot;abc&quot;, &quot;tms&quot;: false}\n",
       "            ).addTo(map_2f54dd7c452ef74b0c18babf03c1afef);\n",
       "        \n",
       "    \n",
       "            var polygon_f967ee5c46315ce1416381d8f4d863cb = L.polygon(\n",
       "                [[45.672455, -122.56902666666667], [45.691341666666666, -122.55269666666666], [45.693576666666665, -122.53398], [45.69372666666667, -122.52453166666666], [45.69061666666666, -122.51646666666667], [45.688703333333336, -122.51641833333332], [45.6855, -122.55247333333334], [45.67741166666666, -122.57573], [45.67848333333333, -122.55246333333334], [45.683573333333335, -122.55247166666666], [45.693515, -122.54365166666666], [45.68056, -122.51633333333334], [45.67919, -122.51666833333331], [45.668911666666666, -122.56829166666668], [45.693525, -122.53944], [45.67418333333333, -122.57140333333334], [45.677725, -122.56860166666668], [45.677735, -122.56682166666668], [45.67774333333333, -122.55547666666666], [45.693493333333336, -122.547155], [45.663473333333336, -122.568405], [45.693775, -122.52066166666668], [45.69244833333333, -122.51650166666668], [45.656125, -122.58398], [45.65792, -122.57627333333332], [45.677745, -122.564255], [45.67776, -122.559705], [45.693445, -122.55032166666666]],\n",
       "                {&quot;bubblingMouseEvents&quot;: true, &quot;color&quot;: &quot;#3388ff&quot;, &quot;dashArray&quot;: null, &quot;dashOffset&quot;: null, &quot;fill&quot;: false, &quot;fillColor&quot;: &quot;#3388ff&quot;, &quot;fillOpacity&quot;: 0.2, &quot;fillRule&quot;: &quot;evenodd&quot;, &quot;lineCap&quot;: &quot;round&quot;, &quot;lineJoin&quot;: &quot;round&quot;, &quot;noClip&quot;: false, &quot;opacity&quot;: 1.0, &quot;smoothFactor&quot;: 1.0, &quot;stroke&quot;: true, &quot;weight&quot;: 3}\n",
       "            ).addTo(map_2f54dd7c452ef74b0c18babf03c1afef);\n",
       "        \n",
       "    \n",
       "            var poly_line_363ead037c9655021e7080e669290695 = L.polyline(\n",
       "                [[45.672455, -122.56902666666667], [45.691341666666666, -122.55269666666666], [45.693576666666665, -122.53398], [45.69372666666667, -122.52453166666666], [45.69061666666666, -122.51646666666667], [45.688703333333336, -122.51641833333332], [45.6855, -122.55247333333334], [45.67741166666666, -122.57573], [45.67848333333333, -122.55246333333334], [45.683573333333335, -122.55247166666666], [45.693515, -122.54365166666666], [45.68056, -122.51633333333334], [45.67919, -122.51666833333331], [45.668911666666666, -122.56829166666668], [45.693525, -122.53944], [45.67418333333333, -122.57140333333334], [45.677725, -122.56860166666668], [45.677735, -122.56682166666668], [45.67774333333333, -122.55547666666666], [45.693493333333336, -122.547155], [45.663473333333336, -122.568405], [45.693775, -122.52066166666668], [45.69244833333333, -122.51650166666668], [45.656125, -122.58398], [45.65792, -122.57627333333332], [45.677745, -122.564255], [45.67776, -122.559705], [45.693445, -122.55032166666666]],\n",
       "                {&quot;bubblingMouseEvents&quot;: true, &quot;color&quot;: &quot;#3388ff&quot;, &quot;dashArray&quot;: null, &quot;dashOffset&quot;: null, &quot;fill&quot;: false, &quot;fillColor&quot;: &quot;#3388ff&quot;, &quot;fillOpacity&quot;: 0.2, &quot;fillRule&quot;: &quot;evenodd&quot;, &quot;lineCap&quot;: &quot;round&quot;, &quot;lineJoin&quot;: &quot;round&quot;, &quot;noClip&quot;: false, &quot;opacity&quot;: 1.0, &quot;smoothFactor&quot;: 1.0, &quot;stroke&quot;: true, &quot;weight&quot;: 3}\n",
       "            ).addTo(map_2f54dd7c452ef74b0c18babf03c1afef);\n",
       "        \n",
       "&lt;/script&gt;\" style=\"position:absolute;width:100%;height:100%;left:0;top:0;border:none !important;\" allowfullscreen webkitallowfullscreen mozallowfullscreen></iframe></div></div>"
      ],
      "text/plain": [
       "<folium.folium.Map at 0x11ee377f0>"
      ]
     },
     "execution_count": 17,
     "metadata": {},
     "output_type": "execute_result"
    }
   ],
   "source": [
    "import pandas as pd\n",
    "import os\n",
    "import folium\n",
    "import folium.plugins\n",
    "filepath = '/Users/zhengmao/Documents/Github/DataEngTeamProject/Assignment3/cars_record/2022-05-21-171126956.csv'\n",
    "df = pd.read_csv(filepath)\n",
    "df = df[['y_coordinate', 'x_coordinate']]\t\n",
    "\n",
    "basicMap = folium.Map(location=[df['y_coordinate'].mean(), df['x_coordinate'].mean()], zoom_start = 11)\n",
    "# folium.Polygon(df).add_to(basicMap)\n",
    "# folium.plugins.HeatMap(df).add_to(basicMap)\n",
    "# [45.592404, -122.550711, 45.586158, -122.541270]\n",
    "# basicMap.fit_bounds([[45.592404, -122.550711],[45.586158, -122.541270]])\n",
    "# folium.PolyLine(df).add_to(basicMap)\n",
    "# df['y_coordinate'].isnull().sum()\n",
    "basicMap\n",
    "\n"
   ]
  }
 ],
 "metadata": {
  "interpreter": {
   "hash": "b0fa6594d8f4cbf19f97940f81e996739fb7646882a419484c72d19e05852a7e"
  },
  "kernelspec": {
   "display_name": "Python 3.9.12 64-bit",
   "language": "python",
   "name": "python3"
  },
  "language_info": {
   "codemirror_mode": {
    "name": "ipython",
    "version": 3
   },
   "file_extension": ".py",
   "mimetype": "text/x-python",
   "name": "python",
   "nbconvert_exporter": "python",
   "pygments_lexer": "ipython3",
   "version": "3.9.12"
  },
  "orig_nbformat": 4
 },
 "nbformat": 4,
 "nbformat_minor": 2
}
