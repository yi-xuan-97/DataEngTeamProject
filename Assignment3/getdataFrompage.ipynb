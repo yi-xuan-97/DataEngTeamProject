{
 "cells": [
  {
   "cell_type": "code",
   "execution_count": 14,
   "metadata": {},
   "outputs": [
    {
     "name": "stdout",
     "output_type": "stream",
     "text": [
      "vehicle_number\n",
      "leave_time\n",
      "train\n",
      "route_number\n",
      "direction\n",
      "service_key\n",
      "stop_time\n",
      "arrive_time\n",
      "dwell\n",
      "location_id\n",
      "door\n",
      "lift\n",
      "ons\n",
      "offs\n",
      "estimated_load\n",
      "maximum_speed\n",
      "train_mileage\n",
      "pattern_distance\n",
      "location_distance\n",
      "x_coordinate\n",
      "y_coordinate\n",
      "data_source\n",
      "schedule_status\n"
     ]
    }
   ],
   "source": [
    "import pandas as pd\n",
    "import requests\n",
    "from bs4 import BeautifulSoup\n",
    "import json\n",
    "\n",
    "pageurl = 'http://www.psudataeng.com:8000/getStopEvents/'\n",
    "s = requests.Session()\n",
    "resp = s.get(url = pageurl)\n",
    "soup = BeautifulSoup(resp.text,'html.parser')\n",
    "tableHeader = soup.find('tr')\n",
    "headerElements = tableHeader.find_all('th')\n",
    "tableHeaders = []\n",
    "for row in headerElements:\n",
    "    tableHeaders.append(row.string)\n",
    "tableHeaders"
   ]
  }
 ],
 "metadata": {
  "interpreter": {
   "hash": "b0fa6594d8f4cbf19f97940f81e996739fb7646882a419484c72d19e05852a7e"
  },
  "kernelspec": {
   "display_name": "Python 3.9.12 64-bit",
   "language": "python",
   "name": "python3"
  },
  "language_info": {
   "name": "python",
   "version": "3.9.12"
  },
  "orig_nbformat": 4
 },
 "nbformat": 4,
 "nbformat_minor": 2
}
