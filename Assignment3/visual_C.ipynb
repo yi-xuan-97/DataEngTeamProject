{
 "cells": [
  {
   "cell_type": "code",
   "execution_count": 10,
   "metadata": {},
   "outputs": [],
   "source": [
    "import pandas as pd\n",
    "import os\n",
    "import folium\n",
    "from datetime import date\n",
    "\n",
    "today = str(date.today())\n",
    "# 9am and 11am\n",
    "# 9am = 9*60*60 11am = 11*60*60\n",
    "# 32400 39600\n",
    "df = pd.read_csv('2022-05-22.csv')\n",
    "df.drop(df[df['leave_time'] < 32400].index, inplace = True)\n",
    "df.drop(df[df['leave_time'] > 39600].index, inplace = True)\n",
    "df.drop(df[df['route_number']!= 65].index, inplace = True)\n",
    "basicMap = folium.Map(location=[df['y_coordinate'].mean(), df['x_coordinate'].mean()], zoom_start = 13, tiles='cartodbpositronnolabels')\n",
    "# add bounding box to map\n",
    "for indice, row in df.iterrows():\n",
    "    # 'y_coordinate', 'x_coordinate'\n",
    "    folium.Marker([row['y_coordinate'], row['x_coordinate']]).add_to(basicMap)\n",
    "folium.PolyLine(locations=[[45.592404, -122.550711],[45.586158, -122.541270]]).add_to(basicMap)\n",
    "basicMap.save(f'Pages/{today}_C.html')\n",
    "basicMap"
   ]
  }
 ],
 "metadata": {
  "interpreter": {
   "hash": "b0fa6594d8f4cbf19f97940f81e996739fb7646882a419484c72d19e05852a7e"
  },
  "kernelspec": {
   "display_name": "Python 3.9.12 64-bit",
   "language": "python",
   "name": "python3"
  },
  "language_info": {
   "codemirror_mode": {
    "name": "ipython",
    "version": 3
   },
   "file_extension": ".py",
   "mimetype": "text/x-python",
   "name": "python",
   "nbconvert_exporter": "python",
   "pygments_lexer": "ipython3",
   "version": "3.9.12"
  },
  "orig_nbformat": 4
 },
 "nbformat": 4,
 "nbformat_minor": 2
}
