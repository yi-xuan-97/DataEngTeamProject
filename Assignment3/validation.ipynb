{
 "cells": [
  {
   "cell_type": "code",
   "execution_count": 99,
   "metadata": {},
   "outputs": [],
   "source": [
    "import pandas as pd\n",
    "\n",
    "filename = '2022-05-21.csv'\n",
    "data = pd.read_csv(filename)"
   ]
  },
  {
   "cell_type": "code",
   "execution_count": 100,
   "metadata": {},
   "outputs": [],
   "source": [
    "# temp = pd.DataFrame(data.values.repeat(data.stop_time, axis=0), columns=data.columns)\n",
    "data['stop_time'] =  data['stop_time'].fillna(method='ffill')\n",
    "data['stop_time'] =  data['stop_time'].fillna(method='bfill')\n",
    "data['x_coordinate'] =  data['x_coordinate'].fillna(method='ffill')\n",
    "data['y_coordinate'] =  data['y_coordinate'].fillna(method='ffill')\n",
    "\n",
    "data['direction'] = data['direction'].fillna(-999)\n",
    "data['location_id'] = data['location_id'].fillna(0)\n",
    "data['pattern_distance'] = data['pattern_distance'].fillna(-1)\n",
    "data['location_distance'] = data['location_distance'].fillna(-1)\n",
    "\n",
    "data.drop(['maximum_speed','service_key','door','lift','ons','offs','dwell'], axis=1,inplace=True)\n",
    "\n",
    "n = 2\n",
    "data.drop(data.tail(n).index,inplace = True)"
   ]
  },
  {
   "cell_type": "code",
   "execution_count": 101,
   "metadata": {},
   "outputs": [],
   "source": [
    "data['leave'] = pd.to_datetime(data['leave_time'],unit='s')\n",
    "data['stop'] = pd.to_datetime(data['stop_time'], unit='s')\n",
    "data['arrive'] = pd.to_datetime(data['arrive_time'], unit='s')\n",
    "data['leave'] = data['leave'].dt.time\n",
    "data['stop'] = data['stop'].dt.time\n",
    "data['arrive'] = data['arrive'].dt.time\n",
    "\n",
    "data.to_csv(filename,index=False)\n"
   ]
  }
 ],
 "metadata": {
  "interpreter": {
   "hash": "b0fa6594d8f4cbf19f97940f81e996739fb7646882a419484c72d19e05852a7e"
  },
  "kernelspec": {
   "display_name": "Python 3.9.12 64-bit",
   "language": "python",
   "name": "python3"
  },
  "language_info": {
   "codemirror_mode": {
    "name": "ipython",
    "version": 3
   },
   "file_extension": ".py",
   "mimetype": "text/x-python",
   "name": "python",
   "nbconvert_exporter": "python",
   "pygments_lexer": "ipython3",
   "version": "3.9.12"
  },
  "orig_nbformat": 4
 },
 "nbformat": 4,
 "nbformat_minor": 2
}
