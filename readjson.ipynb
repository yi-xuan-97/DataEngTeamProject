{
 "cells": [
  {
   "cell_type": "code",
   "execution_count": 27,
   "metadata": {},
   "outputs": [
    {
     "name": "stdout",
     "output_type": "stream",
     "text": [
      "EVENT_NO_TRIP:\n",
      "the integers in this field range from 167530837.0to 170047368.0, and there are 7424902 distinct vehicles identified in the data. Every vehicle is used on weekdays but only 50% of the vehicles are active on weekends\n",
      "EVENT_NO_STOP:\n",
      "the integers in this field range from 167530846.0to 170047369.0, and there are 7424902 distinct vehicles identified in the data. Every vehicle is used on weekdays but only 50% of the vehicles are active on weekends\n",
      "VEHICLE_ID:\n",
      "the integers in this field range from 1776.0to 1298380.0, and there are 7424902 distinct vehicles identified in the data. Every vehicle is used on weekdays but only 50% of the vehicles are active on weekends\n",
      "METERS:\n",
      "the integers in this field range from 0.0to 596291.0, and there are 7424902 distinct vehicles identified in the data. Every vehicle is used on weekdays but only 50% of the vehicles are active on weekends\n",
      "ACT_TIME:\n",
      "the integers in this field range from 14867.0to 90986.0, and there are 7424902 distinct vehicles identified in the data. Every vehicle is used on weekdays but only 50% of the vehicles are active on weekends\n",
      "GPS_LONGITUDE:\n"
     ]
    },
    {
     "ename": "ValueError",
     "evalue": "could not convert string to float: ''",
     "output_type": "error",
     "traceback": [
      "\u001b[0;31m---------------------------------------------------------------------------\u001b[0m",
      "\u001b[0;31mValueError\u001b[0m                                Traceback (most recent call last)",
      "\u001b[1;32m/Users/zhengmao/Documents/Github/DataEngTeamProject/readjson.ipynb Cell 1'\u001b[0m in \u001b[0;36m<cell line: 14>\u001b[0;34m()\u001b[0m\n\u001b[1;32m     <a href='vscode-notebook-cell:/Users/zhengmao/Documents/Github/DataEngTeamProject/readjson.ipynb#ch0000000?line=18'>19</a>\u001b[0m     column \u001b[39m=\u001b[39m df[col]\n\u001b[1;32m     <a href='vscode-notebook-cell:/Users/zhengmao/Documents/Github/DataEngTeamProject/readjson.ipynb#ch0000000?line=19'>20</a>\u001b[0m     dfmax\u001b[39m.\u001b[39mappend(\u001b[39mfloat\u001b[39m(column\u001b[39m.\u001b[39mmax()))\n\u001b[0;32m---> <a href='vscode-notebook-cell:/Users/zhengmao/Documents/Github/DataEngTeamProject/readjson.ipynb#ch0000000?line=20'>21</a>\u001b[0m     dfmin\u001b[39m.\u001b[39mappend(\u001b[39mfloat\u001b[39;49m(column\u001b[39m.\u001b[39;49mmin()))\n\u001b[1;32m     <a href='vscode-notebook-cell:/Users/zhengmao/Documents/Github/DataEngTeamProject/readjson.ipynb#ch0000000?line=21'>22</a>\u001b[0m \u001b[39mprint\u001b[39m(\u001b[39mf\u001b[39m\u001b[39m'\u001b[39m\u001b[39mthe integers in this field range from \u001b[39m\u001b[39m{\u001b[39;00m\u001b[39mmin\u001b[39m(dfmin)\u001b[39m}\u001b[39;00m\u001b[39mto \u001b[39m\u001b[39m{\u001b[39;00m\u001b[39mmax\u001b[39m(dfmax)\u001b[39m}\u001b[39;00m\u001b[39m, and there are \u001b[39m\u001b[39m{\u001b[39;00mn\u001b[39m}\u001b[39;00m\u001b[39m distinct vehicles identified in the data. Every vehicle is used on weekdays but only 50% of the vehicles are active on weekends\u001b[39m\u001b[39m'\u001b[39m)\n",
      "\u001b[0;31mValueError\u001b[0m: could not convert string to float: ''"
     ]
    }
   ],
   "source": [
    "import pandas as pd\n",
    "import os\n",
    "\n",
    "path = '/Users/zhengmao/Documents/Github/DataEngTeamProject/data/'\n",
    "filelist = os.listdir(path)\n",
    "colNames = ['EVENT_NO_TRIP', 'EVENT_NO_STOP', 'VEHICLE_ID','METERS', 'ACT_TIME', 'GPS_LONGITUDE', 'GPS_LATITUDE', 'GPS_SATELLITES', 'GPS_HDOP', 'SCHEDULE_DEVIATION']\n",
    "# 'VELOCITY', 'DIRECTION'\n",
    "dflist = []\n",
    "n = 0\n",
    "for file in filelist:\n",
    "    df = pd.read_json(path+file)\n",
    "    n = n + len(df)\n",
    "    dflist.append(df)\n",
    "for col in colNames:\n",
    "    dfmax = []\n",
    "    dfmin = []\n",
    "    print(f'{col}:')\n",
    "    for df in dflist:\n",
    "        column = df[col]\n",
    "        dfmax.append(float(column.max()))\n",
    "        dfmin.append(float(column.min()))\n",
    "    print(f'the integers in this field range from {min(dfmin)}to {max(dfmax)}, and there are {n} distinct vehicles identified in the data. Every vehicle is used on weekdays but only 50% of the vehicles are active on weekends')  \n"
   ]
  }
 ],
 "metadata": {
  "interpreter": {
   "hash": "b0fa6594d8f4cbf19f97940f81e996739fb7646882a419484c72d19e05852a7e"
  },
  "kernelspec": {
   "display_name": "Python 3.9.12 64-bit",
   "language": "python",
   "name": "python3"
  },
  "language_info": {
   "codemirror_mode": {
    "name": "ipython",
    "version": 3
   },
   "file_extension": ".py",
   "mimetype": "text/x-python",
   "name": "python",
   "nbconvert_exporter": "python",
   "pygments_lexer": "ipython3",
   "version": "3.9.12"
  },
  "orig_nbformat": 4
 },
 "nbformat": 4,
 "nbformat_minor": 2
}
